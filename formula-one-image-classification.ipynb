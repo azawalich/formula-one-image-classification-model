{
  "cells": [
    {
      "cell_type": "code",
      "execution_count": null,
      "metadata": {
        "id": "vKn_2QnU0I5B"
      },
      "outputs": [],
      "source": [
        "# import necessary libraries and modules\n",
        "import tensorflow as tf\n",
        "import numpy as np\n",
        "from matplotlib import pyplot as plt\n",
        "import os\n",
        "import cv2\n",
        "import imghdr\n",
        "from tensorflow.keras.models import Sequential\n",
        "from tensorflow.keras.layers import Conv2D, MaxPooling2D, Dense, Flatten, Dropout\n",
        "from tensorflow.keras.metrics import Precision, Recall, SparseCategoricalAccuracy\n",
        "from tensorflow.keras.models import load_model"
      ]
    },
    {
      "cell_type": "code",
      "execution_count": null,
      "metadata": {
        "id": "HTHwhCSq0Q8p"
      },
      "outputs": [],
      "source": [
        "tf.keras.backend.clear_session()"
      ]
    },
    {
      "cell_type": "code",
      "execution_count": null,
      "metadata": {
        "id": "DRM-WIVf0gYn"
      },
      "outputs": [],
      "source": [
        "# define the data directory path\n",
        "data_dir = './input/formula-one-cars-images'"
      ]
    },
    {
      "cell_type": "code",
      "execution_count": null,
      "metadata": {
        "colab": {
          "base_uri": "https://localhost:8080/"
        },
        "id": "H07t5BCA0iNY",
        "outputId": "7c74d28c-40ae-4fec-cc92-a4edc2e5acd6"
      },
      "outputs": [],
      "source": [
        "# build image dataset pipeline\n",
        "data = tf.keras.utils.image_dataset_from_directory('./input/formula-one-cars-images/train/')"
      ]
    },
    {
      "cell_type": "code",
      "execution_count": null,
      "metadata": {
        "id": "bATPd3tb0xuY"
      },
      "outputs": [],
      "source": [
        "# convert dataset to numpy iterator for easy access of data as a pipeline\n",
        "data_iterator = data.as_numpy_iterator()"
      ]
    },
    {
      "cell_type": "code",
      "execution_count": null,
      "metadata": {
        "id": "nttfl0jl001K"
      },
      "outputs": [],
      "source": [
        "# accessing data through extractaction of a single batch from the dataset\n",
        "batch = data_iterator.next()"
      ]
    },
    {
      "cell_type": "code",
      "execution_count": null,
      "metadata": {
        "id": "NN17oo7D9xn3"
      },
      "outputs": [],
      "source": [
        "# get the class names from the dataset\n",
        "class_names = data.class_names"
      ]
    },
    {
      "cell_type": "code",
      "execution_count": null,
      "metadata": {
        "colab": {
          "base_uri": "https://localhost:8080/"
        },
        "id": "v74puD169zSC",
        "outputId": "1c96fade-b4e5-4e48-ac43-e4e59928a6b7"
      },
      "outputs": [],
      "source": [
        "# create a mapping from label index to class names\n",
        "label_to_class = {i: class_name for i, class_name in enumerate(class_names)}\n",
        "label_to_class"
      ]
    },
    {
      "cell_type": "code",
      "execution_count": null,
      "metadata": {
        "colab": {
          "base_uri": "https://localhost:8080/"
        },
        "id": "hx0S0yPR90oA",
        "outputId": "3b4a145d-92a2-42cd-8b31-572cfaed3c32"
      },
      "outputs": [],
      "source": [
        "# convert batch labels to class names\n",
        "batch_class_names = [label_to_class[label] for label in label_to_class]\n",
        "batch_class_names"
      ]
    },
    {
      "cell_type": "code",
      "execution_count": null,
      "metadata": {
        "id": "OQ5YLjnG92Sg"
      },
      "outputs": [],
      "source": [
        "# scale the image data to range [0, 1]\n",
        "scaled_data = data.map(lambda x,y: (x/255, y))"
      ]
    },
    {
      "cell_type": "code",
      "execution_count": null,
      "metadata": {
        "id": "W-Z3YV7l94XG"
      },
      "outputs": [],
      "source": [
        "# partition train\n",
        "train_size = int(len(scaled_data)*0.7)"
      ]
    },
    {
      "cell_type": "code",
      "execution_count": null,
      "metadata": {
        "id": "_QkNSufL96S7"
      },
      "outputs": [],
      "source": [
        "# partition test\n",
        "test_size = int(len(scaled_data)*0.1)+1"
      ]
    },
    {
      "cell_type": "code",
      "execution_count": null,
      "metadata": {
        "id": "w7D0TYej97rO"
      },
      "outputs": [],
      "source": [
        "# partition validation\n",
        "val_size = int(len(scaled_data)*0.2)+1"
      ]
    },
    {
      "cell_type": "code",
      "execution_count": null,
      "metadata": {
        "id": "bbWgVRkW99w6"
      },
      "outputs": [],
      "source": [
        "# split data\n",
        "train = scaled_data.take(train_size)\n",
        "val = scaled_data.skip(train_size).take(val_size)\n",
        "test = scaled_data.skip(train_size+val_size).take(test_size)"
      ]
    },
    {
      "cell_type": "code",
      "execution_count": null,
      "metadata": {
        "id": "QYHw5Ngn9_eB"
      },
      "outputs": [],
      "source": [
        "# initialize Sequential model\n",
        "model = Sequential()"
      ]
    },
    {
      "cell_type": "code",
      "execution_count": null,
      "metadata": {
        "id": "unUflVgp-A8M"
      },
      "outputs": [],
      "source": [
        "# add convolutional and pooling layers\n",
        "model.add(Conv2D(16, (3,3), 1, activation='relu', input_shape=(256,256,3)))\n",
        "model.add(MaxPooling2D())\n",
        "model.add(Conv2D(32, (3,3), 1, activation='relu'))\n",
        "model.add(MaxPooling2D())\n",
        "model.add(Conv2D(16, (3,3), 1, activation='relu'))\n",
        "model.add(MaxPooling2D())\n",
        "\n",
        "\n",
        "# add dense layers for classification\n",
        "model.add(Flatten())\n",
        "model.add(Dense(256, activation='relu'))\n",
        "model.add(Dense(10, activation='softmax'))"
      ]
    },
    {
      "cell_type": "code",
      "execution_count": null,
      "metadata": {
        "id": "vyCv5yxD-DLo"
      },
      "outputs": [],
      "source": [
        "# compile model\n",
        "model.compile('adam', loss=tf.losses.SparseCategoricalCrossentropy(), metrics=['accuracy'])"
      ]
    },
    {
      "cell_type": "code",
      "execution_count": null,
      "metadata": {
        "colab": {
          "base_uri": "https://localhost:8080/"
        },
        "id": "rlG2cYN8-E5I",
        "outputId": "c5bf53e2-0e4c-4fa5-adbd-26a172c57338"
      },
      "outputs": [],
      "source": [
        "# get summary of model\n",
        "model.summary()"
      ]
    },
    {
      "cell_type": "code",
      "execution_count": null,
      "metadata": {},
      "outputs": [],
      "source": [
        "summary = str(model.to_json())\n",
        "import json\n",
        "with open('./models/model_summary.json', 'w') as f:\n",
        "    json.dump(summary, f)"
      ]
    },
    {
      "cell_type": "code",
      "execution_count": null,
      "metadata": {
        "id": "Egdc6Ckh-GYe"
      },
      "outputs": [],
      "source": [
        "# set the log directory to view history\n",
        "logdir ='./logs'"
      ]
    },
    {
      "cell_type": "code",
      "execution_count": null,
      "metadata": {
        "id": "AduMRWau-Ntq"
      },
      "outputs": [],
      "source": [
        "# set history\n",
        "tensorboard_callback = tf.keras.callbacks.TensorBoard(log_dir=logdir)"
      ]
    },
    {
      "cell_type": "code",
      "execution_count": null,
      "metadata": {
        "colab": {
          "base_uri": "https://localhost:8080/"
        },
        "id": "CTjvmW_M_IlJ",
        "outputId": "961e1cf4-41a1-4738-c6b6-fb0c5f88be06"
      },
      "outputs": [],
      "source": [
        "# show start time\n",
        "import datetime\n",
        "now = datetime.datetime.now()\n",
        "print(now)"
      ]
    },
    {
      "cell_type": "code",
      "execution_count": null,
      "metadata": {
        "colab": {
          "base_uri": "https://localhost:8080/"
        },
        "id": "95eaT6qm-PBh",
        "outputId": "2f48c911-5bde-4fc9-d7c9-f79fbd243444"
      },
      "outputs": [],
      "source": [
        "# train model\n",
        "model_training = model.fit(train, epochs=30, validation_data=val, callbacks=[tensorboard_callback])"
      ]
    },
    {
      "cell_type": "code",
      "execution_count": null,
      "metadata": {
        "colab": {
          "base_uri": "https://localhost:8080/"
        },
        "id": "PdrUdV3Y_Nuj",
        "outputId": "ac4efbd2-39a2-45d1-e59f-c49a66aae290"
      },
      "outputs": [],
      "source": [
        "# show end time\n",
        "now_end = datetime.datetime.now()\n",
        "print(now_end)"
      ]
    },
    {
      "cell_type": "code",
      "execution_count": null,
      "metadata": {
        "colab": {
          "base_uri": "https://localhost:8080/",
          "height": 478
        },
        "id": "yzXzA6Ol-QUB",
        "outputId": "6867ea3c-d814-4bc5-e73c-6c3accec9f83"
      },
      "outputs": [],
      "source": [
        "# visualise loss\n",
        "fig = plt.figure()\n",
        "plt.plot(model_training.history['loss'], color='teal', label='loss')\n",
        "plt.plot(model_training.history['val_loss'], color='orange', label='val_loss')\n",
        "fig.suptitle('Loss', fontsize=20)\n",
        "plt.legend(loc='upper left')\n",
        "plt.savefig('./models/loss.png')"
      ]
    },
    {
      "cell_type": "code",
      "execution_count": null,
      "metadata": {
        "colab": {
          "base_uri": "https://localhost:8080/",
          "height": 478
        },
        "id": "q_GmUlGBccfV",
        "outputId": "226832f4-a1dc-4c44-b29e-39a501052b86"
      },
      "outputs": [],
      "source": [
        "# visualise accuracy\n",
        "fig2 = plt.figure()\n",
        "plt.plot(model_training.history['accuracy'], color='teal', label='accuracy')\n",
        "plt.plot(model_training.history['val_accuracy'], color='orange', label='val_accuracy')\n",
        "fig2.suptitle('Accuracy', fontsize=20)\n",
        "plt.legend(loc='upper left')\n",
        "plt.savefig('./models/accuracy.png')"
      ]
    },
    {
      "cell_type": "code",
      "execution_count": null,
      "metadata": {
        "id": "Ww2z5b0icei2"
      },
      "outputs": [],
      "source": [
        "# set accuracy\n",
        "accuracy = SparseCategoricalAccuracy()"
      ]
    },
    {
      "cell_type": "code",
      "execution_count": null,
      "metadata": {
        "colab": {
          "base_uri": "https://localhost:8080/"
        },
        "id": "Zu8Y6dmzcgbe",
        "outputId": "2ac126ce-7a1c-49a5-fddf-a10de7496e87"
      },
      "outputs": [],
      "source": [
        "# get accuracy of model\n",
        "for batch in test.as_numpy_iterator():\n",
        "    X, y = batch\n",
        "    yhat = model.predict(X)\n",
        "    accuracy.update_state(y, yhat)"
      ]
    },
    {
      "cell_type": "code",
      "execution_count": null,
      "metadata": {
        "colab": {
          "base_uri": "https://localhost:8080/"
        },
        "id": "7-Hhj_UkciC_",
        "outputId": "b718b6e5-de69-4f44-bffb-2688a154cf0e"
      },
      "outputs": [],
      "source": [
        "print('Accuracy:', accuracy.result().numpy())"
      ]
    },
    {
      "cell_type": "code",
      "execution_count": null,
      "metadata": {
        "colab": {
          "base_uri": "https://localhost:8080/",
          "height": 396
        },
        "id": "Irmcv0yfdfbu",
        "outputId": "04797c4d-546a-4cf8-a9a5-a0f3d9242edf"
      },
      "outputs": [],
      "source": [
        "# test model on unforseen image - McLaren F1 Racecar\n",
        "img = cv2.imread('./input/lando-norris-mclaren-mcl35m-1.png')\n",
        "plt.imshow(img)\n",
        "plt.show()"
      ]
    },
    {
      "cell_type": "code",
      "execution_count": null,
      "metadata": {
        "id": "hr6cDZKvdg_p"
      },
      "outputs": [],
      "source": [
        "# convert rgb\n",
        "img_rgb = cv2.cvtColor(img, cv2.COLOR_BGR2RGB)"
      ]
    },
    {
      "cell_type": "code",
      "execution_count": null,
      "metadata": {
        "colab": {
          "base_uri": "https://localhost:8080/",
          "height": 413
        },
        "id": "oicISxfReBXR",
        "outputId": "83c559a9-6d1d-49e4-dac2-9a703b62b1f3"
      },
      "outputs": [],
      "source": [
        "# plot fixed rgb image\n",
        "plt.imshow(img_rgb)\n",
        "plt.title(\"Original Image\")\n",
        "plt.show()"
      ]
    },
    {
      "cell_type": "code",
      "execution_count": null,
      "metadata": {
        "id": "7v9YYD6ueDXv"
      },
      "outputs": [],
      "source": [
        "# normalise for model\n",
        "input_shape = (256, 256)\n",
        "resized_img = cv2.resize(img_rgb, input_shape)\n",
        "resized_img_normalized = resized_img / 255.0\n",
        "input_data = np.expand_dims(resized_img_normalized, axis=0)"
      ]
    },
    {
      "cell_type": "code",
      "execution_count": null,
      "metadata": {
        "colab": {
          "base_uri": "https://localhost:8080/"
        },
        "id": "ZqYaAEcWeFGX",
        "outputId": "dce39700-4f37-4155-8cf3-3547fde6db2a"
      },
      "outputs": [],
      "source": [
        "# predict\n",
        "yhat = model.predict(input_data)\n",
        "yhat"
      ]
    },
    {
      "cell_type": "code",
      "execution_count": null,
      "metadata": {
        "id": "u6qwPd50eHCA"
      },
      "outputs": [],
      "source": [
        "# map out the racecars\n",
        "sorted_indices = np.argsort(yhat[0])[::-1]"
      ]
    },
    {
      "cell_type": "code",
      "execution_count": null,
      "metadata": {
        "colab": {
          "base_uri": "https://localhost:8080/"
        },
        "id": "JDgrydtbeIpV",
        "outputId": "55dede66-bf24-4839-96af-190cec25415d"
      },
      "outputs": [],
      "source": [
        "# print predictions\n",
        "prefixes = ['st', 'nd', 'rd', 'th', 'th', 'th', 'th', 'th', 'th', 'th']\n",
        "for i, index in enumerate(sorted_indices):\n",
        "    prob = yhat[0][index]\n",
        "    class_name = label_to_class[index]\n",
        "    print(f'{i+1}{prefixes[i]} Prediction: {class_name} with {prob*100:.2f}% confidence.')"
      ]
    },
    {
      "cell_type": "code",
      "execution_count": null,
      "metadata": {
        "colab": {
          "base_uri": "https://localhost:8080/"
        },
        "id": "OTXGyurQeKBT",
        "outputId": "6c237c9b-fd15-4fce-8499-42b29ab784c6"
      },
      "outputs": [],
      "source": [
        "# save model\n",
        "model.save(os.path.join('./models','f1-racecar-image-classifier.h5'))"
      ]
    },
    {
      "cell_type": "code",
      "execution_count": null,
      "metadata": {},
      "outputs": [],
      "source": [
        "model = load_model('./models/f1-racecar-image-classifier.h5')"
      ]
    },
    {
      "cell_type": "code",
      "execution_count": null,
      "metadata": {
        "colab": {
          "base_uri": "https://localhost:8080/"
        },
        "id": "htSRQNP7eMa1",
        "outputId": "3da7c3f3-d11d-48ba-e053-fea12a700942"
      },
      "outputs": [],
      "source": [
        "import mlflow\n",
        "mlflow.set_tracking_uri(uri=\"http://models.f1-platform.zawalich.pl\")"
      ]
    },
    {
      "cell_type": "code",
      "execution_count": null,
      "metadata": {},
      "outputs": [],
      "source": [
        "from datetime import datetime\n",
        "now = datetime.strptime(\"2024-03-27 18:04:14\", \"%Y-%m-%d %H:%M:%S\")\n",
        "now_end = datetime.strptime(\"2024-03-27 19:30:38\", \"%Y-%m-%d %H:%M:%S\")\n",
        "training_time = now_end - now\n",
        "training_time.seconds\n"
      ]
    },
    {
      "cell_type": "code",
      "execution_count": null,
      "metadata": {},
      "outputs": [],
      "source": [
        "accuracy = 0.98286605"
      ]
    },
    {
      "cell_type": "code",
      "execution_count": null,
      "metadata": {},
      "outputs": [],
      "source": [
        "!pip freeze > environment.yaml"
      ]
    },
    {
      "cell_type": "code",
      "execution_count": null,
      "metadata": {},
      "outputs": [],
      "source": [
        "import os\n",
        "os.environ[\"MLFLOW_S3_ENDPOINT_URL\"] = \"s3://minio.f1-platform.zawalich.pl:9000/\"\n",
        "print(os.environ[\"MLFLOW_S3_ENDPOINT_URL\"])"
      ]
    },
    {
      "cell_type": "code",
      "execution_count": null,
      "metadata": {},
      "outputs": [],
      "source": [
        "import getpass\n",
        "os.environ[\"AWS_ACCESS_KEY_ID\"] = getpass.getpass()"
      ]
    },
    {
      "cell_type": "code",
      "execution_count": null,
      "metadata": {},
      "outputs": [],
      "source": [
        "os.environ[\"AWS_SECRET_ACCESS_KEY\"] = getpass.getpass()"
      ]
    },
    {
      "cell_type": "code",
      "execution_count": null,
      "metadata": {
        "id": "SM5NTzP0fZS2"
      },
      "outputs": [],
      "source": [
        "import time\n",
        "# Define the model hyperparameters\n",
        "params = {\n",
        "    \"classes\": label_to_class,\n",
        "    \"params_size\": \"14.11 MB\",\n",
        "    \"training_time_readable\": time.strftime('%H:%M:%S', time.gmtime(training_time.seconds)),\n",
        "    \"training_time_start\": print(now),\n",
        "    \"training_time_end\": print(now_end)\n",
        "}\n",
        "# Create a new MLflow Experiment\n",
        "mlflow.set_experiment(\"Formula One Image Classification Model\")\n",
        "\n",
        "# Start an MLflow run\n",
        "with mlflow.start_run():\n",
        "    \n",
        "    mlflow.set_tag(\"mlflow.runName\", \"First initial run\")\n",
        "\n",
        "    # Log model\n",
        "    mlflow.keras.log_model(model, artifact_path=\"formula1-model\", registered_model_name=\"Formula One Image Classification Model\")\n",
        "\n",
        "    # Log the hyperparameters\n",
        "    mlflow.log_params(params)\n",
        "\n",
        "    # Log metrics\n",
        "    mlflow.log_metric(\"accuracy\", accuracy)\n",
        "    mlflow.log_metric(\"epochs\", 30)\n",
        "    mlflow.log_metric(\"params\", 3698938)\n",
        "    mlflow.log_metric(\"training_time_seconds\", training_time.seconds)\n",
        "    mlflow.log_metric(\"layers\", 9)\n",
        "\n",
        "    # Set a tag that we can use to remind ourselves what this run was for\n",
        "    mlflow.set_tag(\"First Training\", \"Training on Google Colaboratory, on CPU\")\n",
        "\n",
        "    # Log files\n",
        "    mlflow.log_artifact('./environment.yaml', 'formula1-model')\n",
        "\n",
        "    mlflow.log_artifact('./models/f1-racecar-image-classifier.h5', 'models')\n",
        "    mlflow.log_artifact('./models/model_summary.json', 'models')\n",
        "    mlflow.log_artifact('./models/loss.png', 'models')\n",
        "    mlflow.log_artifact('./models/accuracy.png', 'models')   \n",
        "    \n",
        "    mlflow.log_artifact('./input/lando-norris-mclaren-mcl35m-1.png', 'input')\n",
        "    mlflow.log_artifact('./input/formula-one-cars-images/train/alfa_romeo/20200427191026_1.png', 'input/formula-one-cars-images/train/alfa_romeo')\n",
        "    mlflow.log_artifact('./input/formula-one-cars-images/train/bwt/20200427185603_1.png', 'input/formula-one-cars-images/train/bwt')\n",
        "    mlflow.log_artifact('./input/formula-one-cars-images/train/ferrari/20200422160951_1.png', 'input/formula-one-cars-images/train/ferrari')\n",
        "    mlflow.log_artifact('./input/formula-one-cars-images/train/haas/20200427181012_1.png', 'input/formula-one-cars-images/train/haas')\n",
        "    mlflow.log_artifact('./input/formula-one-cars-images/train/mclaren/20200427183830_1.png', 'input/formula-one-cars-images/train/mclaren')\n",
        "    mlflow.log_artifact('./input/formula-one-cars-images/train/mercedes/20200427164302_1.png', 'input/formula-one-cars-images/train/mercedes')\n",
        "    mlflow.log_artifact('./input/formula-one-cars-images/train/redbull/20200427172058_1.png', 'input/formula-one-cars-images/train/redbull')\n",
        "    mlflow.log_artifact('./input/formula-one-cars-images/train/renault/20200427174555_1.png', 'input/formula-one-cars-images/train/renault')\n",
        "    mlflow.log_artifact('./input/formula-one-cars-images/train/toro_rosso/20200427202817_1.png', 'input/formula-one-cars-images/train/toro_rosso')\n",
        "    mlflow.log_artifact('./input/formula-one-cars-images/train/williams/20200427204250_3.png', 'input/formula-one-cars-images/train/williams')\n",
        "\n",
        "    mlflow.end_run()"
      ]
    },
    {
      "cell_type": "code",
      "execution_count": null,
      "metadata": {
        "id": "XPNCEBYAfiKA"
      },
      "outputs": [],
      "source": [
        "mlflow.end_run()"
      ]
    },
    {
      "cell_type": "code",
      "execution_count": null,
      "metadata": {},
      "outputs": [],
      "source": []
    }
  ],
  "metadata": {
    "colab": {
      "provenance": []
    },
    "kernelspec": {
      "display_name": "Python 3",
      "name": "python3"
    },
    "language_info": {
      "codemirror_mode": {
        "name": "ipython",
        "version": 3
      },
      "file_extension": ".py",
      "mimetype": "text/x-python",
      "name": "python",
      "nbconvert_exporter": "python",
      "pygments_lexer": "ipython3",
      "version": "3.12.2"
    }
  },
  "nbformat": 4,
  "nbformat_minor": 0
}
